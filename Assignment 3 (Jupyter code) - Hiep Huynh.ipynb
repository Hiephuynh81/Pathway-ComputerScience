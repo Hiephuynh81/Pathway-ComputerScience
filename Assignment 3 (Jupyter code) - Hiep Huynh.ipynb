{
 "cells": [
  {
   "cell_type": "markdown",
   "id": "edc1d395",
   "metadata": {},
   "source": [
    "## ASSIGNMENT 3\n",
    "## STUDENT NAME: HIEP HUYNH\n",
    "### DATE: FEB 22, 2023"
   ]
  },
  {
   "cell_type": "markdown",
   "id": "54a1ebee",
   "metadata": {},
   "source": [
    "#### 1. Write a lambda expression to get the productof two numbers"
   ]
  },
  {
   "cell_type": "code",
   "execution_count": 48,
   "id": "3923aa07",
   "metadata": {},
   "outputs": [
    {
     "name": "stdout",
     "output_type": "stream",
     "text": [
      "Result: 30\n"
     ]
    }
   ],
   "source": [
    "Exp_1 = lambda x,y: print(\"Result:\", x*y)\n",
    "Exp_1(5,6)\n"
   ]
  },
  {
   "cell_type": "markdown",
   "id": "d6a194c3",
   "metadata": {},
   "source": [
    "#### 2. Write a function to get the area of a circle from the radius. Hint: remember to import the right modul for being able to calculte the area of the circle"
   ]
  },
  {
   "cell_type": "code",
   "execution_count": 49,
   "id": "645e6d0e",
   "metadata": {},
   "outputs": [
    {
     "name": "stdout",
     "output_type": "stream",
     "text": [
      "Area of Circle with radius = 10:  314.1592653589793\n"
     ]
    }
   ],
   "source": [
    "from math import pi\n",
    "def area_of_circle (r):\n",
    "    print(f\"Area of Circle with radius = {r}: \", pi*r**2)\n",
    "\n",
    "area_of_circle(10)\n",
    "\n",
    "    \n",
    "    \n"
   ]
  },
  {
   "cell_type": "markdown",
   "id": "a477904b",
   "metadata": {},
   "source": [
    "#### 3. Build a simple calculator which can: add, subtract, multiply, divide"
   ]
  },
  {
   "cell_type": "code",
   "execution_count": 50,
   "id": "232293a3",
   "metadata": {},
   "outputs": [
    {
     "name": "stdout",
     "output_type": "stream",
     "text": [
      "Output: 2/5 = 0.4\n"
     ]
    }
   ],
   "source": [
    "def calculator(x,y,oper):\n",
    "    if oper == 'a': # calculate (x + y)\n",
    "        print(f\"Output: {x} + {y} =\", x + y)\n",
    "    elif oper == 's': # calculate (x - y):\n",
    "        print(f\"Output: {x} - {y} =\", x - y)\n",
    "    elif oper == 'm': # multiple of x*y\n",
    "        print(f\"Output: {x}*{y} =\", x*y)\n",
    "    elif oper == 'd': # divison of x/y\n",
    "        print(f\"Output: {x}/{y} =\", x/y)\n",
    "    else:\n",
    "        print(\"Invalid operation\")     \n",
    "              \n",
    "        \n",
    "calculator(2,5,'d')\n"
   ]
  },
  {
   "cell_type": "markdown",
   "id": "649c1ee3",
   "metadata": {},
   "source": [
    "#### 4. Define a class named Rectangle which can be constructed by a length and width.The Rectangle class has a method which can compute the area"
   ]
  },
  {
   "cell_type": "code",
   "execution_count": 51,
   "id": "b8b01b54",
   "metadata": {},
   "outputs": [
    {
     "name": "stdout",
     "output_type": "stream",
     "text": [
      "Output: 50\n"
     ]
    }
   ],
   "source": [
    "class Rectangle:\n",
    "    def __init__(self, length, width):\n",
    "        self.length = length\n",
    "        self.width = width\n",
    "    def area(self):\n",
    "        print(\"Output:\",self.length*self.width)\n",
    "    \n",
    "r = Rectangle(5,10)\n",
    "r.area()"
   ]
  },
  {
   "cell_type": "markdown",
   "id": "2201ab47",
   "metadata": {},
   "source": [
    "#### 5. Define a class named Shape and its subclass Square.Shapeobjects can be consrtucted by name andlengthhas an area function wich return 0. Square subclass has an init function which take a length and name as argumentand has an area method and a describe method what prints the name of the Shape"
   ]
  },
  {
   "cell_type": "code",
   "execution_count": 52,
   "id": "6c475b06",
   "metadata": {},
   "outputs": [
    {
     "name": "stdout",
     "output_type": "stream",
     "text": [
      "The area is:\n",
      " 25\n",
      "This is a: square\n"
     ]
    }
   ],
   "source": [
    "class Shape:\n",
    "    def area(self):\n",
    "        return(0)\n",
    "class Square:\n",
    "    def __init__(self,length, name):\n",
    "        self.length = length\n",
    "        self.name = name\n",
    "    def area(self):\n",
    "        return(f\"The area is:\\n {self.length**2}\")\n",
    "    def describle(self):\n",
    "        return(f\"This is a: {self.name}\")\n",
    "\n",
    "s = Square(5,'square')\n",
    "print(s.area())\n",
    "print(s.describle())\n"
   ]
  },
  {
   "cell_type": "code",
   "execution_count": null,
   "id": "4141848e",
   "metadata": {},
   "outputs": [],
   "source": []
  }
 ],
 "metadata": {
  "kernelspec": {
   "display_name": "Python 3",
   "language": "python",
   "name": "python3"
  },
  "language_info": {
   "codemirror_mode": {
    "name": "ipython",
    "version": 3
   },
   "file_extension": ".py",
   "mimetype": "text/x-python",
   "name": "python",
   "nbconvert_exporter": "python",
   "pygments_lexer": "ipython3",
   "version": "3.8.8"
  }
 },
 "nbformat": 4,
 "nbformat_minor": 5
}
